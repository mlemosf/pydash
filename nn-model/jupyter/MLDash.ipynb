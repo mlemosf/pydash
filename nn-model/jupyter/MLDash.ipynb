{
 "cells": [
  {
   "cell_type": "code",
   "execution_count": 2,
   "id": "e643c093",
   "metadata": {},
   "outputs": [],
   "source": [
    "import pandas\n",
    "import numpy"
   ]
  },
  {
   "cell_type": "markdown",
   "id": "d33d0dc2",
   "metadata": {},
   "source": [
    "# Tratamento de dados"
   ]
  },
  {
   "cell_type": "markdown",
   "id": "174c776b",
   "metadata": {},
   "source": [
    "## Lê o dataset e converte os dados para os tipos corretos"
   ]
  },
  {
   "cell_type": "code",
   "execution_count": 3,
   "id": "7343099b",
   "metadata": {},
   "outputs": [
    {
     "data": {
      "text/html": [
       "<div>\n",
       "<style scoped>\n",
       "    .dataframe tbody tr th:only-of-type {\n",
       "        vertical-align: middle;\n",
       "    }\n",
       "\n",
       "    .dataframe tbody tr th {\n",
       "        vertical-align: top;\n",
       "    }\n",
       "\n",
       "    .dataframe thead th {\n",
       "        text-align: right;\n",
       "    }\n",
       "</style>\n",
       "<table border=\"1\" class=\"dataframe\">\n",
       "  <thead>\n",
       "    <tr style=\"text-align: right;\">\n",
       "      <th></th>\n",
       "      <th>big_length</th>\n",
       "      <th>request_time</th>\n",
       "      <th>buffer_size</th>\n",
       "      <th>quality_id</th>\n",
       "    </tr>\n",
       "  </thead>\n",
       "  <tbody>\n",
       "    <tr>\n",
       "      <th>0</th>\n",
       "      <td>246000</td>\n",
       "      <td>18481.831428</td>\n",
       "      <td>0</td>\n",
       "      <td>424520</td>\n",
       "    </tr>\n",
       "    <tr>\n",
       "      <th>1</th>\n",
       "      <td>1001968</td>\n",
       "      <td>18481.921044</td>\n",
       "      <td>1</td>\n",
       "      <td>808057</td>\n",
       "    </tr>\n",
       "    <tr>\n",
       "      <th>2</th>\n",
       "      <td>711336</td>\n",
       "      <td>18482.204785</td>\n",
       "      <td>2</td>\n",
       "      <td>1071529</td>\n",
       "    </tr>\n",
       "    <tr>\n",
       "      <th>3</th>\n",
       "      <td>1528344</td>\n",
       "      <td>18482.410232</td>\n",
       "      <td>3</td>\n",
       "      <td>1312787</td>\n",
       "    </tr>\n",
       "    <tr>\n",
       "      <th>4</th>\n",
       "      <td>1380456</td>\n",
       "      <td>18482.806065</td>\n",
       "      <td>4</td>\n",
       "      <td>1312787</td>\n",
       "    </tr>\n",
       "    <tr>\n",
       "      <th>...</th>\n",
       "      <td>...</td>\n",
       "      <td>...</td>\n",
       "      <td>...</td>\n",
       "      <td>...</td>\n",
       "    </tr>\n",
       "    <tr>\n",
       "      <th>1188</th>\n",
       "      <td>329880</td>\n",
       "      <td>10077.988136</td>\n",
       "      <td>7</td>\n",
       "      <td>424520</td>\n",
       "    </tr>\n",
       "    <tr>\n",
       "      <th>1189</th>\n",
       "      <td>356568</td>\n",
       "      <td>10078.522479</td>\n",
       "      <td>7</td>\n",
       "      <td>424520</td>\n",
       "    </tr>\n",
       "    <tr>\n",
       "      <th>1190</th>\n",
       "      <td>294592</td>\n",
       "      <td>10079.099278</td>\n",
       "      <td>8</td>\n",
       "      <td>424520</td>\n",
       "    </tr>\n",
       "    <tr>\n",
       "      <th>1191</th>\n",
       "      <td>170496</td>\n",
       "      <td>10079.576611</td>\n",
       "      <td>5</td>\n",
       "      <td>424520</td>\n",
       "    </tr>\n",
       "    <tr>\n",
       "      <th>1192</th>\n",
       "      <td>0</td>\n",
       "      <td>10083.210732</td>\n",
       "      <td>6</td>\n",
       "      <td>424520</td>\n",
       "    </tr>\n",
       "  </tbody>\n",
       "</table>\n",
       "<p>1193 rows × 4 columns</p>\n",
       "</div>"
      ],
      "text/plain": [
       "      big_length  request_time  buffer_size quality_id\n",
       "0         246000  18481.831428            0     424520\n",
       "1        1001968  18481.921044            1     808057\n",
       "2         711336  18482.204785            2    1071529\n",
       "3        1528344  18482.410232            3    1312787\n",
       "4        1380456  18482.806065            4    1312787\n",
       "...          ...           ...          ...        ...\n",
       "1188      329880  10077.988136            7     424520\n",
       "1189      356568  10078.522479            7     424520\n",
       "1190      294592  10079.099278            8     424520\n",
       "1191      170496  10079.576611            5     424520\n",
       "1192           0  10083.210732            6     424520\n",
       "\n",
       "[1193 rows x 4 columns]"
      ]
     },
     "execution_count": 3,
     "metadata": {},
     "output_type": "execute_result"
    }
   ],
   "source": [
    "df = pandas.read_csv('dataset3.csv')\n",
    "df['quality_id'] = df['quality_id'].astype('category')\n",
    "df"
   ]
  },
  {
   "cell_type": "markdown",
   "id": "7bdb6a62",
   "metadata": {},
   "source": [
    "## Normaliza os dados para treinamento"
   ]
  },
  {
   "cell_type": "code",
   "execution_count": 4,
   "id": "60710dd9",
   "metadata": {},
   "outputs": [
    {
     "data": {
      "text/html": [
       "<div>\n",
       "<style scoped>\n",
       "    .dataframe tbody tr th:only-of-type {\n",
       "        vertical-align: middle;\n",
       "    }\n",
       "\n",
       "    .dataframe tbody tr th {\n",
       "        vertical-align: top;\n",
       "    }\n",
       "\n",
       "    .dataframe thead th {\n",
       "        text-align: right;\n",
       "    }\n",
       "</style>\n",
       "<table border=\"1\" class=\"dataframe\">\n",
       "  <thead>\n",
       "    <tr style=\"text-align: right;\">\n",
       "      <th></th>\n",
       "      <th>big_length</th>\n",
       "      <th>request_time</th>\n",
       "      <th>buffer_size</th>\n",
       "      <th>quality_id</th>\n",
       "    </tr>\n",
       "  </thead>\n",
       "  <tbody>\n",
       "    <tr>\n",
       "      <th>0</th>\n",
       "      <td>246000</td>\n",
       "      <td>18481.831428</td>\n",
       "      <td>0</td>\n",
       "      <td>7</td>\n",
       "    </tr>\n",
       "    <tr>\n",
       "      <th>1</th>\n",
       "      <td>1001968</td>\n",
       "      <td>18481.921044</td>\n",
       "      <td>1</td>\n",
       "      <td>10</td>\n",
       "    </tr>\n",
       "    <tr>\n",
       "      <th>2</th>\n",
       "      <td>711336</td>\n",
       "      <td>18482.204785</td>\n",
       "      <td>2</td>\n",
       "      <td>11</td>\n",
       "    </tr>\n",
       "    <tr>\n",
       "      <th>3</th>\n",
       "      <td>1528344</td>\n",
       "      <td>18482.410232</td>\n",
       "      <td>3</td>\n",
       "      <td>12</td>\n",
       "    </tr>\n",
       "    <tr>\n",
       "      <th>4</th>\n",
       "      <td>1380456</td>\n",
       "      <td>18482.806065</td>\n",
       "      <td>4</td>\n",
       "      <td>12</td>\n",
       "    </tr>\n",
       "    <tr>\n",
       "      <th>...</th>\n",
       "      <td>...</td>\n",
       "      <td>...</td>\n",
       "      <td>...</td>\n",
       "      <td>...</td>\n",
       "    </tr>\n",
       "    <tr>\n",
       "      <th>1188</th>\n",
       "      <td>329880</td>\n",
       "      <td>10077.988136</td>\n",
       "      <td>7</td>\n",
       "      <td>7</td>\n",
       "    </tr>\n",
       "    <tr>\n",
       "      <th>1189</th>\n",
       "      <td>356568</td>\n",
       "      <td>10078.522479</td>\n",
       "      <td>7</td>\n",
       "      <td>7</td>\n",
       "    </tr>\n",
       "    <tr>\n",
       "      <th>1190</th>\n",
       "      <td>294592</td>\n",
       "      <td>10079.099278</td>\n",
       "      <td>8</td>\n",
       "      <td>7</td>\n",
       "    </tr>\n",
       "    <tr>\n",
       "      <th>1191</th>\n",
       "      <td>170496</td>\n",
       "      <td>10079.576611</td>\n",
       "      <td>5</td>\n",
       "      <td>7</td>\n",
       "    </tr>\n",
       "    <tr>\n",
       "      <th>1192</th>\n",
       "      <td>0</td>\n",
       "      <td>10083.210732</td>\n",
       "      <td>6</td>\n",
       "      <td>7</td>\n",
       "    </tr>\n",
       "  </tbody>\n",
       "</table>\n",
       "<p>1193 rows × 4 columns</p>\n",
       "</div>"
      ],
      "text/plain": [
       "      big_length  request_time  buffer_size  quality_id\n",
       "0         246000  18481.831428            0           7\n",
       "1        1001968  18481.921044            1          10\n",
       "2         711336  18482.204785            2          11\n",
       "3        1528344  18482.410232            3          12\n",
       "4        1380456  18482.806065            4          12\n",
       "...          ...           ...          ...         ...\n",
       "1188      329880  10077.988136            7           7\n",
       "1189      356568  10078.522479            7           7\n",
       "1190      294592  10079.099278            8           7\n",
       "1191      170496  10079.576611            5           7\n",
       "1192           0  10083.210732            6           7\n",
       "\n",
       "[1193 rows x 4 columns]"
      ]
     },
     "execution_count": 4,
     "metadata": {},
     "output_type": "execute_result"
    }
   ],
   "source": [
    "df_max_scaled = df.copy()\n",
    "\n",
    "# Converte coluna de qualidades para range 0,19\n",
    "quality_map = {46980: 0, 91917: 1, 135410: 2, 182366: 3, 226106: 4, 270316: 5, 352546: 6, 424520: 7, 537825: 8, 620705: 9, 808057: 10, 1071529: 11, 1312787: 12, 1662809: 13, 2234145: 14, 2617284: 15, 3305118: 16, 3841983: 17, 4242923: 18, 4726737: 19}\n",
    "df_max_scaled.replace({'quality_id': quality_map}, inplace=True)\n",
    "df_max_scaled"
   ]
  },
  {
   "cell_type": "markdown",
   "id": "76dbb278",
   "metadata": {},
   "source": [
    "# Remove colunas indesejadas"
   ]
  },
  {
   "cell_type": "code",
   "execution_count": 5,
   "id": "7307bfcf",
   "metadata": {},
   "outputs": [],
   "source": [
    "#df_max_scaled.drop(['buffer_size'], axis=1, inplace=True)\n",
    "#df_max_scaled"
   ]
  },
  {
   "cell_type": "markdown",
   "id": "df9b96c7",
   "metadata": {},
   "source": [
    "## Opcional: tratamentos opcionais"
   ]
  },
  {
   "cell_type": "code",
   "execution_count": 6,
   "id": "48b0811c",
   "metadata": {},
   "outputs": [
    {
     "data": {
      "text/plain": [
       "quality_id\n",
       "5      45\n",
       "6     523\n",
       "7     358\n",
       "8     130\n",
       "9      49\n",
       "10     30\n",
       "11     16\n",
       "12     18\n",
       "13     24\n",
       "dtype: int64"
      ]
     },
     "execution_count": 6,
     "metadata": {},
     "output_type": "execute_result"
    }
   ],
   "source": [
    "# Verifica quantas linhas de cada categoria existe\n",
    "df_max_scaled.groupby(['quality_id']).size()"
   ]
  },
  {
   "cell_type": "code",
   "execution_count": 8,
   "id": "77f2b4de",
   "metadata": {},
   "outputs": [],
   "source": [
    "# Gráfico do dataset desbalanceado\n",
    "import matplotlib.pyplot as plt"
   ]
  },
  {
   "cell_type": "code",
   "execution_count": 13,
   "id": "4e710663",
   "metadata": {},
   "outputs": [
    {
     "data": {
      "image/png": "[encoded data removed]",
      "text/plain": [
       "<Figure size 720x720 with 1 Axes>"
      ]
     },
     "metadata": {},
     "output_type": "display_data"
    }
   ],
   "source": [
    "df_max_scaled.groupby('quality_id').size().plot.pie(figsize=(10,10))\n",
    "plt.show()"
   ]
  },
  {
   "cell_type": "code",
   "execution_count": 15,
   "id": "42e9bc2c",
   "metadata": {},
   "outputs": [
    {
     "data": {
      "text/plain": [
       "quality_id\n",
       "5     45\n",
       "6     50\n",
       "7     50\n",
       "8     50\n",
       "9     49\n",
       "10    30\n",
       "11    16\n",
       "12    18\n",
       "13    24\n",
       "dtype: int64"
      ]
     },
     "execution_count": 15,
     "metadata": {},
     "output_type": "execute_result"
    }
   ],
   "source": [
    "# Limita cada categoria a 50 elementos\n",
    "df_max_scaled = df_max_scaled.groupby('quality_id').head(50)\n",
    "df_max_scaled.groupby(['quality_id']).size()"
   ]
  },
  {
   "cell_type": "code",
   "execution_count": 16,
   "id": "3dd05378",
   "metadata": {},
   "outputs": [
    {
     "data": {
      "image/png": "[encoded data removed]",
      "text/plain": [
       "<Figure size 720x720 with 1 Axes>"
      ]
     },
     "metadata": {},
     "output_type": "display_data"
    }
   ],
   "source": [
    "# Gráfico das categorias após selecionadas\n",
    "df_max_scaled.groupby('quality_id').size().plot.pie(figsize=(10,10))\n",
    "plt.show()"
   ]
  },
  {
   "cell_type": "markdown",
   "id": "bc905204",
   "metadata": {},
   "source": [
    "# Treinamento de modelo"
   ]
  },
  {
   "cell_type": "code",
   "execution_count": 7,
   "id": "9cc10376",
   "metadata": {},
   "outputs": [],
   "source": [
    "from sklearn.svm import SVC, LinearSVC\n",
    "from sklearn.model_selection import train_test_split"
   ]
  },
  {
   "cell_type": "code",
   "execution_count": 8,
   "id": "35651b06",
   "metadata": {},
   "outputs": [
    {
     "data": {
      "text/plain": [
       "(265, 3)"
      ]
     },
     "execution_count": 8,
     "metadata": {},
     "output_type": "execute_result"
    }
   ],
   "source": [
    "# Separação de dados de treinamento e validação\n",
    "\n",
    "X = df_max_scaled.drop(columns=['quality_id']).copy()\n",
    "y = df_max_scaled['quality_id']\n",
    "\n",
    "train_size = 0.8\n",
    "X_train, X_test, y_train, y_test = train_test_split(X, y, train_size=train_size)\n",
    "\n",
    "X_train.shape"
   ]
  },
  {
   "cell_type": "code",
   "execution_count": 9,
   "id": "aadd2916",
   "metadata": {},
   "outputs": [
    {
     "name": "stderr",
     "output_type": "stream",
     "text": [
      "/home/matheus/.local/lib/python3.9/site-packages/sklearn/svm/_base.py:1199: ConvergenceWarning: Liblinear failed to converge, increase the number of iterations.\n",
      "  warnings.warn(\n"
     ]
    },
    {
     "data": {
      "text/plain": [
       "SVC(kernel='sigmoid')"
      ]
     },
     "execution_count": 9,
     "metadata": {},
     "output_type": "execute_result"
    }
   ],
   "source": [
    "# Treina o modelo com kernels diferentes\n",
    "model_rbf = SVC(kernel='rbf')\n",
    "model_poly = SVC(kernel='poly')\n",
    "model_sigmoid = SVC(kernel='sigmoid')\n",
    "model_linear = LinearSVC(random_state=0, tol=1e-5, max_iter=200000)\n",
    "\n",
    "model_rbf.fit(X_train, y_train)\n",
    "model_linear.fit(X_train, y_train)\n",
    "model_poly.fit(X_train, y_train)\n",
    "model_sigmoid.fit(X_train, y_train)"
   ]
  },
  {
   "cell_type": "code",
   "execution_count": 14,
   "id": "c24e8ab9",
   "metadata": {},
   "outputs": [
    {
     "name": "stdout",
     "output_type": "stream",
     "text": [
      "[12]\n",
      "[8]\n",
      "[12]\n",
      "[7]\n"
     ]
    },
    {
     "name": "stderr",
     "output_type": "stream",
     "text": [
      "/home/matheus/.local/lib/python3.9/site-packages/sklearn/base.py:441: UserWarning: X does not have valid feature names, but SVC was fitted with feature names\n",
      "  warnings.warn(\n",
      "/home/matheus/.local/lib/python3.9/site-packages/sklearn/base.py:441: UserWarning: X does not have valid feature names, but LinearSVC was fitted with feature names\n",
      "  warnings.warn(\n",
      "/home/matheus/.local/lib/python3.9/site-packages/sklearn/base.py:441: UserWarning: X does not have valid feature names, but SVC was fitted with feature names\n",
      "  warnings.warn(\n",
      "/home/matheus/.local/lib/python3.9/site-packages/sklearn/base.py:441: UserWarning: X does not have valid feature names, but SVC was fitted with feature names\n",
      "  warnings.warn(\n"
     ]
    }
   ],
   "source": [
    "# Faz predição com um valor de teste\n",
    "#x = numpy.array(X_test.iloc[0])\n",
    "#y = numpy.array(y_test.iloc[1])\n",
    "\n",
    "x = numpy.array([382864,18817.010532294,0])\n",
    "y = numpy.array([270316])\n",
    "\n",
    "print(model_rbf.predict([X_test.iloc[0]]))\n",
    "print(model_linear.predict([X_test.iloc[0]]))\n",
    "print(model_poly.predict([X_test.iloc[0]]))\n",
    "print(model_sigmoid.predict([X_test.iloc[0]]))"
   ]
  },
  {
   "cell_type": "markdown",
   "id": "f2cec986",
   "metadata": {},
   "source": [
    "## Avaliação do modelo"
   ]
  },
  {
   "cell_type": "code",
   "execution_count": 11,
   "id": "7c62573a",
   "metadata": {},
   "outputs": [
    {
     "name": "stdout",
     "output_type": "stream",
     "text": [
      "RBF = 0.6865671641791045\n",
      "Linear = 0.417910447761194\n",
      "Poly = 0.7014925373134329\n",
      "Sigmoid = 0.3880597014925373\n"
     ]
    }
   ],
   "source": [
    "# Verifica qual modelo tem a melhor acurácia\n",
    "\n",
    "print(f'RBF = {model_rbf.score(X_test, y_test)}')\n",
    "print(f'Linear = {model_linear.score(X_test, y_test)}')\n",
    "print(f'Poly = {model_poly.score(X_test, y_test)}')\n",
    "print(f'Sigmoid = {model_sigmoid.score(X_test, y_test)}')"
   ]
  },
  {
   "cell_type": "markdown",
   "id": "603b7d74",
   "metadata": {},
   "source": [
    "# Salvar modelo"
   ]
  },
  {
   "cell_type": "markdown",
   "id": "f122e716",
   "metadata": {},
   "source": [
    "Modelo é salvo em um arquivo de pesos para uso em outras aplicações (salvar aquele que teve melhor acurácia)"
   ]
  },
  {
   "cell_type": "code",
   "execution_count": 12,
   "id": "41e3a38f",
   "metadata": {},
   "outputs": [],
   "source": [
    "import pickle "
   ]
  },
  {
   "cell_type": "code",
   "execution_count": 13,
   "id": "a359bbdd",
   "metadata": {},
   "outputs": [],
   "source": [
    "# Salva o modelo\n",
    "model_tuple = (model_poly,X_train, y_train)\n",
    "pickle.dump(model_tuple, open('svm.pkl', 'wb'))"
   ]
  },
  {
   "cell_type": "code",
   "execution_count": null,
   "id": "73b569b6",
   "metadata": {},
   "outputs": [],
   "source": []
  },
  {
   "cell_type": "code",
   "execution_count": null,
   "id": "ce9a5b6c",
   "metadata": {},
   "outputs": [],
   "source": []
  }
 ],
 "metadata": {
  "kernelspec": {
   "display_name": "Python 3 (ipykernel)",
   "language": "python",
   "name": "python3"
  },
  "language_info": {
   "codemirror_mode": {
    "name": "ipython",
    "version": 3
   },
   "file_extension": ".py",
   "mimetype": "text/x-python",
   "name": "python",
   "nbconvert_exporter": "python",
   "pygments_lexer": "ipython3",
   "version": "3.9.7"
  }
 },
 "nbformat": 4,
 "nbformat_minor": 5
}
